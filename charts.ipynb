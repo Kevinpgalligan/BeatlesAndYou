{
 "cells": [
  {
   "cell_type": "code",
   "execution_count": 43,
   "metadata": {},
   "outputs": [],
   "source": [
    "from storage import LyricsDatabase\n",
    "import matplotlib.pyplot as plt\n",
    "from collections import defaultdict\n",
    "from nltk.stem import PorterStemmer\n",
    "from nltk.tokenize import word_tokenize"
   ]
  },
  {
   "cell_type": "markdown",
   "metadata": {},
   "source": [
    "## Cumulative histogram"
   ]
  },
  {
   "cell_type": "code",
   "execution_count": 4,
   "metadata": {},
   "outputs": [],
   "source": [
    "db = LyricsDatabase(\"./lyrics/charts/\")\n",
    "score_count = defaultdict(int)\n",
    "for song in db:\n",
    "    score_count[song[\"success-score\"]] += 1"
   ]
  },
  {
   "cell_type": "code",
   "execution_count": 5,
   "metadata": {},
   "outputs": [
    {
     "name": "stdout",
     "output_type": "stream",
     "text": [
      "songs: 5184\n",
      "mean: 375.603587962963\n",
      "max score: 2019\n"
     ]
    }
   ],
   "source": [
    "max_score = max(score_count.keys())\n",
    "n = 0\n",
    "total = 0\n",
    "for score, count in score_count.items():\n",
    "    n += count\n",
    "    total += score*count\n",
    "\n",
    "print(\"songs:\", n)\n",
    "print(\"mean:\", total/n)\n",
    "print(\"max score:\", max_score)"
   ]
  },
  {
   "cell_type": "code",
   "execution_count": 39,
   "metadata": {},
   "outputs": [
    {
     "data": {
      "image/png": "[encoded data removed]",
      "text/plain": [
       "<Figure size 576x432 with 1 Axes>"
      ]
     },
     "metadata": {},
     "output_type": "display_data"
    }
   ],
   "source": [
    "scores = [song[\"success-score\"] for song in db]\n",
    "plt.figure(figsize=(8,6))\n",
    "plt.hist(scores, 250, histtype=\"step\", cumulative=True, density=True)\n",
    "ax = plt.gca()\n",
    "ax.spines[\"right\"].set_visible(False)\n",
    "ax.spines[\"top\"].set_visible(False)\n",
    "plt.xlabel(\"success score\", fontsize=12)\n",
    "plt.ylabel(\"cumulative frequency\", fontsize=12)\n",
    "plt.title(\"Success scores of Hot-100 songs\", fontsize=20)\n",
    "plt.savefig(\"success-scores-cumulative.png\")"
   ]
  },
  {
   "cell_type": "code",
   "execution_count": 40,
   "metadata": {},
   "outputs": [],
   "source": [
    "songs = [song for song in db]\n",
    "songs.sort(key=lambda song: song[\"success-score\"])"
   ]
  },
  {
   "cell_type": "code",
   "execution_count": 41,
   "metadata": {},
   "outputs": [
    {
     "data": {
      "text/plain": [
       "[{'artist': 'The Radiants',\n",
       "  'attempted-fetches': ['azlyrics'],\n",
       "  'id': 'theradiants-fatherknowsbest',\n",
       "  'lyrics': \"Whenever I'm in trouble I ask my dad\\nFor his advice\\nAnd everything he said\\nIt always seems to turn out right\\n\\nThat's why I talk to dad for advice\\n(And I ask him)\\nWhat you do to make my baby act right\\n(He said son)\\nAll you got to do is take my advice\\nHe said to make your girl love ya\\nSon, to make her kiss and hug ya\\n\\nYou gotta get tough\\nAnd treat her wrong\\nAnd if she cries, so what\\nShe's trying to put you to a test\\nSo watch your step and don't forget\\nSon, you know your father knows best\\n\\nIf she gets mad and wants to ???? you\\n(Here's what you say)\\nNow alright baby, I don't care if you do\\n(Remember son)\\nThere's another girl who's waiting just for you\\nHe said to make your girl love ya\\nSon, to make her kiss and hug ya\\n\\nYou gotta get tough\\nAnd treat her wrong\\nAnd if she kisses someone, so what\\nYour girl's no different from the rest\\nShe's trying to see what she can get\\nSon, you know your father knows best\\n\\nI took my father's advice\\nAnd I did just what he said, yeah yeah\\nMy baby thought that I was out of my head\\nI asked my dad what went wrong\\nHe looked at me and said oh\\nAnother thing about your girl you should know\\n\\nThat if she's something like your mother\\n(Here's what you do)\\nYou better do the things to show her that you love her\\n(And if you don't)\\nYou'll be getting in a whole ??? of trouble\\n\\nIf you want your girl to love you\\nSon, and always kiss and hug you\\nYou better show her that your love is true\\n\\nI took my father's advice\\nAnd I did just what he said, yeah yeah\\nMy baby thought that I was out of my head\\nI asked my dad what went wrong\\nHe looked at me and said oh\\nAnother thing about your girl you should know\\n\\nThat if she's something like your mother\\n(Here's what you do)\\nYou better do the things to show her that you love her\\n(And if you don't)\\nYou'll be getting in a whole ??? of trouble\\nIf you want your girl to love you\\nSon, and always kiss and hug you\\n\\nYou better be nice, treat her right\\nAnd call her up son every night\\nAnd don't forget son your father's advice\\n'Cause one day soon ??? she'll be your wife\\nAnd if you ????? happy life\\nYou better, better take your, your father's advice\\nAnd don't you ever stay out late at night\\n'Cause if you do\",\n",
       "  'name': 'Father Knows Best',\n",
       "  'success-score': 1},\n",
       " {'artist': 'Mary Wells',\n",
       "  'attempted-fetches': ['azlyrics'],\n",
       "  'id': 'marywells-twowrongsdontmakearight',\n",
       "  'lyrics': 'I took your love and said, \"Goodbye\"\\nStayed away, my darling and made you cry\\nIf you turn me away, yeah yeah, all I can say\\nIs that two wrongs don\\'t make a right\\n\\nI broke your heart, you know it\\'s true\\nNow I\\'m back begging you\\nNot to turn me away \\'cause all I can say\\nIs that two wrongs don\\'t make a right\\n\\nNow is your chance to do me wrong\\nAnd to tell me that this is the end\\nNow, my darling, if you can forgive until the longest day I live\\nI\\'ll never make that same mistake again\\n\\nI took your love and said goodbye\\nI stayed away, my darling and made you cry\\n\\'Cause if you turn me away baby, yeah yeah, all I can say\\nIs that two wrongs don\\'t make a right\\n\\nPlease don\\'t turn me away baby, \\'cause all I can say\\nIs that two wrongs don\\'t make a right\\nYou know if you turn, you just turn me away, all I can say\\nIs that two wrongs don\\'t make a right',\n",
       "  'name': \"Two Wrongs Don't Make A Right\",\n",
       "  'success-score': 1},\n",
       " {'artist': 'Ray Price',\n",
       "  'attempted-fetches': ['azlyrics'],\n",
       "  'id': 'rayprice-maketheworldgoaway',\n",
       "  'lyrics': \"Oh make the world go away and get it off my shoulder\\nIt goes bigger day by day please make the world go away\\nI was wrong the day I left you and let the world leave me astray\\nIf you'll say that you forgive me you'll make the world go away\\nOh make the world go away and get it off my shoulder\\nI go weaker day by day please make the world go away\\nI'm sorry that I hurt you I'll make it up day by day\\nCan you love me like you used to and make the world go away\\nMake the world go away and get it off my shoulder\\nCan you love me like you used to and make the world go away\\nSay the things you used to say and make the world go away\\nI can't stand another day please make the world go away\\nSay you'll take me back to stay and make the world go away\",\n",
       "  'name': 'Make The World Go Away',\n",
       "  'success-score': 1},\n",
       " {'artist': 'Joey Dee',\n",
       "  'attempted-fetches': ['azlyrics', 'google'],\n",
       "  'id': 'joeydee-babyyouredrivingmecrazy',\n",
       "  'lyrics': \"Baby (baby)\\nYou're driving me crazy\\n(Right out of my head)\\n\\nI say, baby (baby)\\nYou're driving me crazy\\n(Yeah, yeah, yeah)\\n\\nYou got a brand new\\nLover for yourself\\nYou went and put your\\nNumber one lover on the shelf\\n\\nBaby (baby)\\nYou're driving me crazy\\nWhoa, whoa, whoa, whoa\\n\\nI said, lover (lover)\\nThere isn't any other\\nNo, no, no, no\\n\\nI said, lover (lover)\\nThere is no other\\n(Yeah, yeah, yeah)\\n\\nGet ahold of yourself\\nGonna lose control\\nGonna find you had a lover\\nWith lots of soul\\n\\nSay, baby (baby)\\nYou're driving me crazy\\n\\nYou got a whole lotta\\nFellas out on the street\\nSmile on your face for\\nEvery fella you meet\\n\\nLips of a-wine\\nI say you're so fine\\nYou're bout to make me\\nLose my mind\\n\\nI said, baby, yeah\\nYou're driving me crazy\\nWhoa, whoa, whoa, whoa\\n\\nI say, baby (baby)\\nYou're driving me crazy\\n(Yeah, yeah, yeah)\\n\\nYou got a brand new\\nLover for yourself\\nYou went and put your\\nNumber one lover on the shelf\\n\\nI say, baby, yeah\\nYou're driving me crazy\\n\\nYeah, I'm out of my mind\\nYou got to be there\\nYou know I've lost control\\nYou got to be there\\n\\nYou got to be there\\nYeah, I've lost my mind...\",\n",
       "  'name': \"Baby, You're Driving Me Crazy\",\n",
       "  'success-score': 1},\n",
       " {'artist': 'The Easybeats',\n",
       "  'attempted-fetches': ['azlyrics', 'google'],\n",
       "  'id': 'theeasybeats-stlouis',\n",
       "  'lyrics': \"Whoa, yeah\\n\\nCountrymen, friends, lend me your ears\\nI'll tell you a tale of fifteen years\\nI'm an old man that's so forlorn\\nI wanna see the city where I was born\\n\\nI got a feeling that I can't stand\\nI wanna go home to my homeland\\nAin't got no money, I ain't got a cent\\nI can't get on that train to help me\\n\\nShow me the way to St.Louis\\nShow me the way\\nShow me the way to St.Louis\\nShow me the way\\nCome on, people, gotta get moving\\nCome on, people, gotta get grooving\\nShow me the way to St.Louis\\nShow me the way\\n\\nStep up to me, you city gents\\nAnd I'll clean your shoes for fifteen cents\\nI'll fix your tie, you'll look a smash\\nIf you don't mind, I'll take the cash\\n\\nSoon I'll get the money and I'll feel fine\\nTo pack my bags and drink my wine\\nI only know I got to go home\\nThe good Lord told me so, so help me\\n\\nShow me the way to St.Louis\\nShow me the way\\nShow me the way to St.Louis\\nShow me the way\\nCome on, people, gotta get moving\\nCome on, people, gotta get grooving\\nShow me the way to St.Louis\\nShow me the way\\n\\nWhich train goes to Louis\\nYou know I got the fare\\nI know my time's coming fast\\nI got to try to raise the fare\\n\\nCome on, people, gotta get moving\\nCome on, people, gotta get grooving\\nShow me the way to St.Louis\\nShow me the way\\nShow me the way to St.Louis\\nShow me the way\\n\\nLouis, Louis, Louis, Louis\\nLouis, Louis, Louis, Louis...\\n\\nShow me the way to St.Louis\\nShow me the way\\nShow me the way to St.Louis\\nShow me the way\\nShow me the way to St.Louis\\nShow me the way...\",\n",
       "  'name': 'St. Louis',\n",
       "  'success-score': 1},\n",
       " {'artist': 'Vicki Anderson & James Brown',\n",
       "  'attempted-fetches': ['azlyrics', 'google'],\n",
       "  'id': 'vickiandersonjamesbrown-think',\n",
       "  'lyrics': \"Heeeeeyow\\nThink about the sacrifices that I made for you.\\nThink about the good things I done for you.\\nNow think of all the bad things I tried not to do baby baby.\\nThink of all the wrong things you did to me too. come on\\nThink about the good things baby.\\nThink about the wrong things maybe.\\nThink baby about the right things.\\nThink about the outta sight things.\\nLady before you leave me realize im the one who loves you.\\nHow much of all your happiness can I really claim.\\nHow many tears have you shed for which I was to blame.\\nI I I don't remember what they brought.\\nI tried so hard to please you , at least that's what I thought. come on.\\nThink about the good things baby.\\nThink about the wrong things maybe.\\nThink about the the things I wouldn't do.\\nThink what I done for you.\\nLady before you leave me realize I'm the one who loves you. heeeeeey!\\nThink of all the sacrifices I made for you.\\nThink of all the good things wooo hoooo\\nThink of all the bad things I tried not to do.\\nWhen you get tired of me think about the good things done for you.\\nCome on reeee!\\nThink babe about the good things.\\nThink just sit on down and.\\nThink just sit on down and.\\nThink just sit on down.\\nThink think think heey heeeeeey.\\nThink just think on baby.\\nThink if you getting tired.\\nThink sit on down.\\nThink sit ahhhh.\\nThink heeyy think heyyyy\\nThink baby think yeah.\\nThink about the sacrifices I made for you.\\nThink about the hard times I spent with you.\\nNow think about the good things now think about the good things.\\nCome on now.\\nThink think baby.\\nThink and don't you forget to.\\nThink hey heyy. never never never make me fret.\\nThink think think.\\nThink heyy heeey\\nThink and don't you forget.\\nThink how much of your happiness.\\nThink can I really claim.\\nThink\",\n",
       "  'name': 'Think',\n",
       "  'success-score': 1},\n",
       " {'artist': 'B.B. King',\n",
       "  'attempted-fetches': ['azlyrics'],\n",
       "  'id': 'bbking-thethrillisgone',\n",
       "  'lyrics': \"The thrill is gone\\nThe thrill is gone away\\nThe thrill is gone baby\\nThe thrill is gone away\\nYou know you done me wrong baby\\nAnd you'll be sorry someday\\n\\nThe thrill is gone\\nIt's gone away from me\\nThe thrill is gone baby\\nThe thrill is gone away from me\\nAlthough, I'll still live on\\nBut so lonely I'll be\\n\\nThe thrill is gone\\nIt's gone away for good\\nThe thrill is gone baby\\nIt's gone away for good\\nSomeday I know I'll be over it all baby\\nJust like I know a good man should\\n\\nYou know I'm free, free now baby\\nI'm free from your spell\\nOh I'm free, free, free now\\nI'm free from your spell\\nAnd now that it's all over\\nAll I can do is wish you well\",\n",
       "  'name': 'The Thrill Is Gone',\n",
       "  'success-score': 1},\n",
       " {'artist': 'Aretha Franklin',\n",
       "  'attempted-fetches': ['azlyrics'],\n",
       "  'id': 'arethafranklin-tryalittletenderness',\n",
       "  'lyrics': \"She may be weary\\nWomen do get weary \\nWearing the same shabby dress\\nAnd when she's weary\\n\\nTry a little tenderness\\nYou know she's waiting\\nJust anticipating things she may never possess\\nWhile she's without them,\\n\\nTry a little tenderness\\nIt's not just sentimental\\nShe has her grief and care\\nAnd a word that's soft and gentle\\n\\nMakes it easier to bear\\nYou won't regret it\\nWomen don't forget it\\nLove is their whole happiness\\n\\nIt's all so easy \\nTry a little tenderness\\n\\nShe may be weary\\nWomen do get weary \\nWearing the same shabby dress\\nAnd when she's weary\\n\\nTry a little tenderness\\nYou know she's waiting\\nJust anticipating things she may never possess\\nWhile she's without them\\n\\nTry a little tenderness\\nIt's not just sentimental\\nShe has her grief and care\\nAnd a word that's soft and gentle\\n\\nMakes it easier to bear\\nYou won't regret it\\nWomen don't forget it\\nLove is their whole happiness\\n\\nIt's all so easy \\nTry a little tenderness\",\n",
       "  'name': 'Try A Little Tenderness',\n",
       "  'success-score': 1},\n",
       " {'artist': 'The Ad Libs',\n",
       "  'attempted-fetches': ['azlyrics', 'google'],\n",
       "  'id': 'theadlibs-heaintnoangel',\n",
       "  'lyrics': \"He ain't no angel\\n(I ain't no angel)\\nBut that's alright\\n(That's alright)\\n\\nHe ain't no angel\\n(I ain't no angel)\\nBut that's alright\\n(But it's alright)\\n\\nWell, I don't want a lover\\nWith a halo round his head\\nMy sugar baby wears a\\nStench of brim instead\\n\\nYeah, he's got a little bit\\nOf devil down is his soul\\n\\nHe ain't no angel\\n(I ain't no angel)\\nBut I don't care\\n(She don't care)\\n\\nHe ain't no angel\\n(I ain't no angel)\\nBut I don't care\\n(I'll love you right)\\n\\nHe didn't fly down from Heaven\\nWith white wings on his back\\nHe flew in from Kansas City\\nIn a big, fat Cadillac\\n\\nYeah, he said he made his break\\nPlaying rock and roll\\n\\nNo, sure not\\n(I'm not an angel)\\nNo, no, but I don't\\nWant nobody but you\\n\\nNo, no, no\\n(I'm not an angel)\\nNo, but nobody else will do\\n\\nHe ain't no angel\\n(I ain't no angel)\\nBut that's alright\\n(That's alright)\\n\\nHe ain't no angel\\n(I ain't no angel)\\nBut that's alright now\\n(It's gonna be alright)\\n\\nYou know he sleeps til sundown\\nAnd he keeps me up all night\\nAnd when it comes to loving\\nThat boy, he's outta sight\\n\\nYeah, you know he makes\\nMe lose my self control\\n\\nHe ain't no angel\\n(I ain't no angel)\\nBut that's alright\\n(That's alright)\\n\\nHe ain't no angel\\n(I ain't no angel)\\nBut that's alright now\\n(It's gonna be alright)\",\n",
       "  'name': \"He Ain't No Angel\",\n",
       "  'success-score': 1},\n",
       " {'artist': 'The Spellbinders',\n",
       "  'attempted-fetches': ['azlyrics', 'google', 'generic'],\n",
       "  'id': 'thespellbinders-helpmegetmyselfbacktogetheragain',\n",
       "  'lyrics': \"A broken heart is all I have to show\\r\\nFor the girl I love so much before\\r\\nLove made me blind, I couldn't see\\r\\nThat she was only fooling me\\r\\nYes she broke my heart, and caused me pain\\r\\nMade my tears fall like rain\\r\\n\\r\\nAnd I need someone (somebody help me)\\r\\nSaid I need someone (somebody help me)\\r\\nSaid I need someone (somebody help me)\\r\\nGet myself back together again\\r\\n(Help me, somebody help me)\\n(Help me, somebody help me) \\n\\n\\r\\nShe made me vow to always be true\\r\\nSwore she would never leave me for someone new\\r\\nJust like a fool I believed her ???\\r\\nYou know she ???? can't help me now\\r\\nYou know she broke my heart, and caused me pain\\r\\nMade my tears fall like rain\\r\\n\\r\\n(Help me)\\r\\nAnd I need someone (somebody help me)\\r\\nGot to help me, got to help me\\r\\nGot to - got to - got to - got to - got to help me\\r\\n(Somebody help me)\\r\\nGet myself back together again\\r\\n(Help me, somebody help me)\\r\\nGot to help me - got to - got to - got to help me\\r\\nGot to help me\\r\\nSomebody help me\\r\\nGot to - got to - got to - got to - got to help me\\r\\n(She broke my heart, and caused me pain)\\n(Made my tears fall like rain)\\n(Help me)\\r\\nAnd I need someone (help me, somebody help me)\\r\\nSaid I need someone (somebody help me)\\r\\nSaid I need someone (somebody help me)\\r\\nGet myself back together again\\r\\n(Help me, somebody help me)\\n(Help me, somebody help me)\\r\\nGot to help me - got to - got to - got to help me\\r\\nGot to help me\\r\\n\\r\\n[FADE]\",\n",
       "  'name': 'Help Me (Get Myself Back Together Again)',\n",
       "  'success-score': 1}]"
      ]
     },
     "execution_count": 41,
     "metadata": {},
     "output_type": "execute_result"
    }
   ],
   "source": [
    "songs[:10]"
   ]
  },
  {
   "cell_type": "code",
   "execution_count": 42,
   "metadata": {},
   "outputs": [
    {
     "data": {
      "text/plain": [
       "[{'artist': 'Sly & The Family Stone',\n",
       "  'attempted-fetches': ['azlyrics'],\n",
       "  'id': 'slythefamilystone-everydaypeople',\n",
       "  'lyrics': \"Sometimes I'm right and I can be wrong\\nMy own beliefs are in my song\\nThe butcher, the banker, the drummer and then\\nMakes no difference what group I'm in\\nI am everyday people, yeah, yeah\\n\\nThere is a blue one\\nWho can't accept the green one\\nFor living with a fat one\\nTrying to be a skinny one\\nDifferent strokes\\nFor different folks\\n\\nAnd so on and so on\\nAnd scooby dooby dooby\\nOh sha sha\\nWe got to live together\\n\\nI am no better and neither are you\\nWe are the same, whatever we do\\nYou love me, you hate me, you know me and then\\nYou can't figure out the bag I'm in\\nI am everyday people, yeah yeah\\n\\nThere is a long hair\\nThat doesn't like the short hair\\nFor being such a rich one\\nThat will not help the poor one\\nDifferent strokes\\nFor different folks\\n\\nAnd so on and so on\\nAnd scooby dooby dooby\\nOh sha sha\\nWe got to live together\\n\\nThere is a yellow one\\nThat won't accept the black one\\nThat won't accept the red one\\nThat won't accept the white one\\nDifferent strokes\\nFor different folks\\n\\nAnd so on and so on\\nAnd scooby dooby dooby\\nOh sha sha\\nI am everyday people\",\n",
       "  'name': 'Everyday People',\n",
       "  'success-score': 1451},\n",
       " {'artist': 'Ray Charles',\n",
       "  'attempted-lyrics': True,\n",
       "  'id': 'raycharles-icantstoplovingyou',\n",
       "  'lyrics': \"(I can't stop loving you)\\nI've made up my mind\\nTo live in memory of the lonesome times\\n(I can't stop wanting you)\\nIt's useless to say\\nSo I'll just live my life in dreams of yesterday\\n(Dreams of yesterday)\\nThose happy hours that we once knew\\nTho' long ago, they still make me blue\\nThey say that time heals a broken heart\\nBut time has stood still since we've been apart\\n\\n(I can't stop loving you)\\nI've made up my mind\\nTo live in memories of the lonesome times\\n(I can't stop wanting you)\\nIt's useless to say\\nSo I'll just live my life in dreams of yesterday\\n(Those happy hours)\\nThose happy hours\\n(That we once knew)\\nThat we once knew\\n(Tho' long ago)\\nTho' long ago\\n(Still make me blue)\\nStill ma-a-a-ake me blue\\n(They say that time)\\nThey say that time\\n(Heals a broken heart)\\nHeals a broken heart\\n(But time has stood still)\\nTime has stood still\\n(Since we've been apart)\\nSince we've been apart\\n\\n(I can't stop loving you)\\nI said I made up my mind\\nTo live in memory of the lonesome times\\n(Sing a song, children)\\n(I can't stop wanting you)\\nIt's useless to say\\nSo I'll just live my life of dreams of yesterday\\n(Of yesterday)\",\n",
       "  'name': \"I Can't Stop Loving You\",\n",
       "  'success-score': 1476},\n",
       " {'artist': 'The 5th Dimension',\n",
       "  'attempted-lyrics': True,\n",
       "  'id': 'the5thdimension-aquariusletthesunshinein',\n",
       "  'lyrics': \"When the moon is in the Seventh House\\nAnd Jupiter aligns with Mars\\nThen peace will guide the planets\\nAnd love will steer the stars\\n\\nThis is the dawning of the age of Aquarius\\nAge of Aquarius\\nAquarius\\nAquarius\\n\\nHarmony and understanding\\nSympathy and trust abounding\\nNo more falsehoods or derisions\\nGolden living dreams of visions\\nMystic crystal revelation\\nAnd the mind's true liberation\\nAquarius\\nAquarius\\n\\nWhen the moon (when the moon) is in the Seventh House\\nAnd Jupiter (Jupiter) aligns with Mars\\nThen peace will guide the planets\\nAnd love will steer the stars\\n\\nThis is the dawning of the age of Aquarius\\nAge of Aquarius\\nAquarius\\nAquarius\\nAquarius\\nAquarius\\n\\nLet the sunshine\\nLet the sunshine in\\nThe sunshine in\\n\\nLet the sunshine\\nLet the sunshine in\\nThe sunshine in\\n\\nLet the sunshine (oh let it shine)\\nLet the sunshine in (come on)\\nThe sunshine in (now, everybody, just sing along)\\n\\nLet the sunshine (let the sun shine on in)\\nLet the sunshine in (open up your heart)\\nThe sunshine in (and let it shine on in)\\n\\n(And when you are lonely) Let the sunshine\\n(Hey, let it shine) Let the sunshine in\\n(You got to open up your heart) The sunshine in\\n(And let it shine on in)\\n\\n(And when you feel like you've been mistreated) Let the sunshine\\n(And your friends turn their back on you) Let the sunshine in\\n(Just open up your heart) The sunshine in\\n(And let it shine on in)\\n\\n(You've got to feel it) Let the sunshine\\n(You've got to feel it) Let the sunshine in\\n(Ah, open up your heart) The sunshine in\\n(And let it shine on in)\\n\\n(Now let me tell you one thing) Let the sunshine\\n(I want you to sing along with the 5th Dimension) Let the sunshine in\\n(Hey, and open up your heart) The sunshine in\\n(Ah, come on)\\n\\nLet the sunshine (and let it shine)\\nLet the sunshine in (every day)\\nThe sunshine in\\n\\n(Hey, you've got to feel it) Let the sunshine\\n(You've got to feel it) Let the sunshine in\\n(When you open up your heart) The sunshine in\\n(You got to let the sun come on in)\\n\\n(Now I see it in the morning) Let the sunshine\\n(And the rain in the evening) Let the sunshine in\\n(Open up your heart) The sunshine in\\n\\n(Hey, when you're feeling low) Let the sunshine in\",\n",
       "  'name': 'Aquarius/Let The Sunshine In',\n",
       "  'success-score': 1505},\n",
       " {'artist': 'Tom Jones',\n",
       "  'attempted-fetches': ['google'],\n",
       "  'attempted-lyrics': True,\n",
       "  'id': 'tomjones-illneverfallinloveagain',\n",
       "  'lyrics': \"I've been in love so many times\\nThought I knew the score\\nBut now you've treated me so wrong\\nI can't take anymore\\n\\nAnd it looks like\\nI'm never gonna fall in love again\\nFall in love, I'm never gonna fall in love\\nI mean it\\nFall in love again\\n\\nAll those things I heard about you\\nI thought they were only lies\\nBut when I caught you in his arms\\nI just broke down and cried\\n\\nAnd it looks like\\nI'm never gonna fall in love again\\nFall in love, no, I'm never gonna fall in love\\nI mean it, I mean it\\nFall in love again\\n\\nI gave my heart so easily\\nI cast aside my pride\\nBut when you fell for someone else, baby\\nI broke up all inside\\n\\nAnd it looks like\\nI'm never gonna fall in love again\\nThat's why I'm a-singin' it\\nFall in love, no, I'm never gonna fall in love\\nPlease don't make me\\nFall in love again\",\n",
       "  'name': \"I'll Never Fall In Love Again\",\n",
       "  'success-score': 1510},\n",
       " {'artist': 'Mr. Acker Bilk',\n",
       "  'attempted-fetches': ['google'],\n",
       "  'attempted-lyrics': True,\n",
       "  'id': 'mrackerbilk-strangerontheshore',\n",
       "  'lyrics': 'Here I stand, watching the tide go out\\nSo all alone and blue\\nJust dreaming dreams of you\\n\\nI watched your ship as it sailed out to sea\\nTaking all my dreams\\nAnd taking all of me\\n\\nThe sighing of the waves\\nThe wailing of the wind\\nThe tears in my eyes burn\\nPleading,\\n\"My love, return\\n\\nWhy, oh, why must I go on like this?\\nShall I just be a lonely stranger on the shore?\\n\\nThe sighing of the waves\\nThe wailing of the wind\\nThe tears in my eyes burn\\nPleading,\\n\"My love, return\\n\\nWhy, oh, why must I go on like this?\\nShall I just be a lonely stranger on the shore?',\n",
       "  'name': 'Stranger On The Shore',\n",
       "  'success-score': 1612},\n",
       " {'artist': 'Cream',\n",
       "  'attempted-lyrics': True,\n",
       "  'id': 'cream-sunshineofyourlove',\n",
       "  'lyrics': \"It's gettin' near dawn\\nWhen lights close their tired eyes\\nI'll soon be with you my love\\nTo give you my dawn surprise\\nI'll be with you darling soon\\nI'll be with you when the stars start falling\\n\\nI've been waiting so long\\nTo be where I'm going\\nIn the sunshine of your love\\n\\nI'm with you my love\\nThe light's shinin' through on you\\nYes, I'm with you my love\\nIt's the morning and just we two\\nI'll stay with you darling now\\nI'll stay with you till my seas are dried up\\n\\nI've been waiting so long\\nTo be where I'm going\\nIn the sunshine of your love\\n\\nI'm with you my love\\nThe light's shinin' through on you\\nYes, I'm with you my love\\nIt's the morning and just we two\\nI'll stay with you darling now\\nI'll stay with you till my seas are dried up\\n\\nI've been waiting so long\\nI've been waiting so long\\nI've been waiting so long\\nTo be where I'm going\\nIn the sunshine of your love\",\n",
       "  'name': 'Sunshine Of Your Love',\n",
       "  'success-score': 1632},\n",
       " {'artist': 'Chubby Checker',\n",
       "  'attempted-fetches': ['azlyrics'],\n",
       "  'id': 'chubbychecker-limborock',\n",
       "  'lyrics': \"Every limbo boy and girl\\nAll around the limbo world\\nGonna do the limbo rock\\nAll around the limbo clock\\n\\nJack be limbo, Jack be quick\\nJack go unda limbo stick\\nAll around the limbo clock\\nHey, let's do the limbo rock\\n\\nLimbo lower now\\nLimbo lower now\\nHow low can you go?\\n\\nFirst you spread your limbo feet\\nThen you move to limbo beat\\nLimbo ankolimboneee\\nBend back like a limbo tree\\n\\nJack be limbo, Jack be quick\\nJack go unda limbo stick\\nAll around the limbo clock\\nHey, let's do the limbo rock\\n\\nLa, la, la\\nLa, la, la\\nLa, la, la\\n\\nGet yourself a limbo girl\\nGive that chic a limbo whirl\\nThere's a limbo moon above\\nYou will fall in limbo love\\n\\nJack be limbo, Jack be quick\\nJack go unda limbo stick\\nAll around the limbo clock\\nHey, let's do the limbo rock\\n\\nDon't move that limbo bar\\nYou'll be a limbo star\\nHow low can you go?\",\n",
       "  'name': 'Limbo Rock',\n",
       "  'success-score': 1759},\n",
       " {'artist': 'The Archies',\n",
       "  'attempted-lyrics': True,\n",
       "  'id': 'thearchies-sugarsugar',\n",
       "  'lyrics': \"Sugar, ah honey honey\\nYou are my candy girl\\nAnd you've got me wanting you\\nHoney, ah sugar sugar\\nYou are my candy girl\\nAnd you've got me wanting you\\n\\nI just can't believe the loveliness of loving you\\n(I just can't believe it's true)\\nI just can't believe the one to love this feeling to\\n(I just can't believe it's true)\\n\\nAh sugar, ah honey honey\\nYou are my candy girl\\nAnd you've got me wanting you\\nAh honey, ah sugar sugar\\nYou are my candy girl\\nAnd you've got me wanting you\\n\\nWhen I kissed you, girl, I knew how sweet a kiss could be\\n(I know how sweet a kiss can be)\\nLike the summer sunshine pour your sweetness over me\\n(Pour your sweetness over me)\\n\\nSugar, pour a little sugar on it honey\\nPour a little sugar on it baby\\nI'm gonna make your life so sweet, yeah yeah yeah\\nPour a little sugar on it oh yeah\\nPour a little sugar on it honey\\nPour a little sugar on it baby\\nI'm gonna make your life so sweet, yeah yeah yeah\\nPour a little sugar on it honey\\n\\nAh sugar, ah honey honey\\nYou are my candy girl\\nAnd you've got me wanting you\\nOh honey, honey, sugar sugar...\\nYou are my candy girl...\",\n",
       "  'name': 'Sugar, Sugar',\n",
       "  'success-score': 1797},\n",
       " {'artist': 'Louis Armstrong And The All Stars',\n",
       "  'attempted-fetches': ['azlyrics', 'google'],\n",
       "  'id': 'louisarmstrongandtheallstars-hellodolly',\n",
       "  'lyrics': \"I said hello, Dolly,\\nWell, hello, Dolly\\nIt's so nice to have you back where you belong\\nYou're lookin' swell, Dolly\\nI can tell, Dolly\\nYou're still glowin'\\nYou're still crowin'\\nYou're still goin' strong\\nI feel that room swayin'\\nWhile the band's playin'\\nOne of your old favourite songs from way back when\\nSo take her wrap, fellas\\nFind her an empty lap, fellas\\nDolly'll never go away again\\n\\nI said hello, Dolly\\nWell, hello, Dolly\\nIt's so nice to have you back where you belong\\nYou're lookin' swell, Dolly\\nI can tell, Dolly\\nYou're still glowin'\\nYou're still crowin'\\nYou're still goin' strong\\nI feel the room swayin'\\nWhile that ole band keeps on playin'\\nOne of your old favourite songs from way back when\\nSo golly, gee, fellas\\nFind her an empty knee, fellas\\nDolly'll never go away\\nI said she'll never go away\\nDolly'll never go away again\",\n",
       "  'name': 'Hello, Dolly!',\n",
       "  'success-score': 1840},\n",
       " {'artist': 'The Surfaris',\n",
       "  'attempted-fetches': ['azlyrics', 'google', 'generic'],\n",
       "  'id': 'thesurfaris-wipeout',\n",
       "  'lyrics': '\\n\\nAh ha ha ha ha ha ha ha ha ha ha ha, wipe out\\n\\n',\n",
       "  'name': 'Wipe Out',\n",
       "  'success-score': 2019}]"
      ]
     },
     "execution_count": 42,
     "metadata": {},
     "output_type": "execute_result"
    }
   ],
   "source": [
    "songs[-10:]"
   ]
  },
  {
   "cell_type": "markdown",
   "metadata": {},
   "source": [
    "## Box plots"
   ]
  },
  {
   "cell_type": "code",
   "execution_count": 45,
   "metadata": {},
   "outputs": [],
   "source": [
    "STEMMER = PorterStemmer()\n",
    "YOU_FORMS = [STEMMER.stem(form) for form in [\"you\", \"your\", \"yours\", \"yourself\"]]\n",
    "\n",
    "def lowercase_stems(s):\n",
    "    return [STEMMER.stem(token).lower() for token in word_tokenize(s)]\n",
    "\n",
    "def contains_you(lyrics):\n",
    "    return any(stem in YOU_FORMS for stem in lowercase_stems(lyrics))\n",
    "\n",
    "def contains_you_in_first_line(lyrics):\n",
    "    return contains_you(lyrics.strip().split(\"\\n\")[0])"
   ]
  },
  {
   "cell_type": "code",
   "execution_count": 49,
   "metadata": {},
   "outputs": [
    {
     "name": "stdout",
     "output_type": "stream",
     "text": [
      "True\n",
      "True\n",
      "False\n",
      "False\n",
      "True\n",
      "False\n"
     ]
    }
   ],
   "source": [
    "song1 = \"\"\"I love you\n",
    "Because you are lovely\"\"\"\n",
    "song2 = \"\"\"This song is not addressed\n",
    "To the 2nd person\"\"\"\n",
    "song3 = \"\"\"2nd person,\n",
    "Is on the second line, your goose\"\"\"\n",
    "for song in [song1, song2, song3]:\n",
    "    print(contains_you(song))\n",
    "    print(contains_you_in_first_line(song))"
   ]
  },
  {
   "cell_type": "code",
   "execution_count": 54,
   "metadata": {},
   "outputs": [],
   "source": [
    "db = LyricsDatabase(\"./lyrics/charts/\")\n",
    "songs = [song for song in db]\n",
    "you_scores = [song[\"success-score\"] for song in songs\n",
    "              if contains_you(song[\"lyrics\"])]\n",
    "not_you_scores = [song[\"success-score\"] for song in songs\n",
    "              if not contains_you(song[\"lyrics\"])]\n",
    "you_first_line_scores = [\n",
    "    song[\"success-score\"]\n",
    "    for song in songs\n",
    "    if contains_you_in_first_line(song[\"lyrics\"])\n",
    "]\n",
    "not_you_first_line_scores = [\n",
    "    song[\"success-score\"]\n",
    "    for song in songs\n",
    "    if not contains_you_in_first_line(song[\"lyrics\"])\n",
    "]"
   ]
  },
  {
   "cell_type": "code",
   "execution_count": 56,
   "metadata": {},
   "outputs": [
    {
     "name": "stdout",
     "output_type": "stream",
     "text": [
      "373.45530236634534 278\n",
      "391.4177419354839 316\n",
      "384.43767705382436 302\n",
      "372.2966595970307 276\n"
     ]
    }
   ],
   "source": [
    "for scores in [you_scores, not_you_scores, you_first_line_scores, not_you_first_line_scores]:\n",
    "    # mean & median\n",
    "    print(\n",
    "        sum(scores)/len(scores),\n",
    "        sorted(scores)[len(scores)//2])"
   ]
  },
  {
   "cell_type": "code",
   "execution_count": 73,
   "metadata": {},
   "outputs": [
    {
     "data": {
      "image/png": "[encoded data removed]",
      "text/plain": [
       "<Figure size 576x432 with 1 Axes>"
      ]
     },
     "metadata": {},
     "output_type": "display_data"
    },
    {
     "name": "stdout",
     "output_type": "stream",
     "text": [
      "4564 620\n"
     ]
    }
   ],
   "source": [
    "plt.figure(figsize=(8,6))\n",
    "box = plt.boxplot([you_scores, not_you_scores], patch_artist=True)\n",
    "colors = ['bisque', 'bisque']\n",
    "for patch, color in zip(box['boxes'], colors):\n",
    "    patch.set_facecolor(color)\n",
    "ax = plt.gca()\n",
    "ax.set_xticklabels([\"you\", \"not you\"], fontsize=14)\n",
    "ax.spines[\"right\"].set_visible(False)\n",
    "ax.spines[\"top\"].set_visible(False)\n",
    "plt.ylabel(\"success score\", fontsize=14)\n",
    "plt.show()\n",
    "print(len(you_scores), len(not_you_scores))"
   ]
  },
  {
   "cell_type": "code",
   "execution_count": 72,
   "metadata": {},
   "outputs": [
    {
     "data": {
      "image/png": "[encoded data removed]",
      "text/plain": [
       "<Figure size 576x432 with 1 Axes>"
      ]
     },
     "metadata": {},
     "output_type": "display_data"
    },
    {
     "name": "stdout",
     "output_type": "stream",
     "text": [
      "1412 3772\n"
     ]
    }
   ],
   "source": [
    "plt.figure(figsize=(8,6))\n",
    "box = plt.boxplot(\n",
    "    [you_first_line_scores, not_you_first_line_scores],\n",
    "    patch_artist=True)\n",
    "colors = ['bisque', 'bisque']\n",
    "for patch, color in zip(box['boxes'], colors):\n",
    "    patch.set_facecolor(color)\n",
    "ax = plt.gca()\n",
    "ax.set_xticklabels([\"you in first line\", \"you not in first line\"], fontsize=14)\n",
    "ax.spines[\"right\"].set_visible(False)\n",
    "ax.spines[\"top\"].set_visible(False)\n",
    "plt.ylabel(\"success score\", fontsize=14)\n",
    "plt.show()\n",
    "print(len(you_first_line_scores), len(not_you_first_line_scores))"
   ]
  }
 ],
 "metadata": {
  "kernelspec": {
   "display_name": "Python 3",
   "language": "python",
   "name": "python3"
  },
  "language_info": {
   "codemirror_mode": {
    "name": "ipython",
    "version": 3
   },
   "file_extension": ".py",
   "mimetype": "text/x-python",
   "name": "python",
   "nbconvert_exporter": "python",
   "pygments_lexer": "ipython3",
   "version": "3.6.9"
  }
 },
 "nbformat": 4,
 "nbformat_minor": 2
}
